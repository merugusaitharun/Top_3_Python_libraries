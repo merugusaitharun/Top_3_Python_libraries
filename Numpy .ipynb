{
 "cells": [
  {
   "cell_type": "raw",
   "id": "c82bdb00-c4c9-4a5c-bafe-cce1def471c7",
   "metadata": {},
   "source": [
    "Numpy stands for the numerical python and is the core liberary for the numerical and the scientific computing\n",
    "* Numpy consists of multi dimensions array objects with the collection of rotstions for processing those arrays."
   ]
  },
  {
   "cell_type": "code",
   "execution_count": 2,
   "id": "d3362d07-edfe-41eb-a069-7335e13df10a",
   "metadata": {},
   "outputs": [
    {
     "data": {
      "text/plain": [
       "array([1, 2, 3, 4])"
      ]
     },
     "execution_count": 2,
     "metadata": {},
     "output_type": "execute_result"
    }
   ],
   "source": [
    "import numpy as np\n",
    "n1=np.array([1,2,3,4])\n",
    "n1"
   ]
  },
  {
   "cell_type": "code",
   "execution_count": 5,
   "id": "dd5af891-44d7-47e2-adef-cfe60bbba08c",
   "metadata": {},
   "outputs": [
    {
     "name": "stdout",
     "output_type": "stream",
     "text": [
      "[[1 2 3 4]\n",
      " [5 6 7 8]]\n"
     ]
    }
   ],
   "source": [
    "n2=np.array([[1,2,3,4],[5,6,7,8]])\n",
    "print(n2)"
   ]
  },
  {
   "cell_type": "markdown",
   "id": "5bb89a1e-f50c-4bea-8fdf-3cc311b7ac9f",
   "metadata": {},
   "source": [
    "Initializing Numpy with Zeros"
   ]
  },
  {
   "cell_type": "raw",
   "id": "ac503a79-b88a-49cb-9915-dc7078ee5ac7",
   "metadata": {},
   "source": [
    "if we initializing numpy array with zeros we only get the zeros in a row and column way"
   ]
  },
  {
   "cell_type": "code",
   "execution_count": 6,
   "id": "a545831e-5689-4a62-89f9-39969f7f8225",
   "metadata": {},
   "outputs": [
    {
     "data": {
      "text/plain": [
       "array([[0., 0.]])"
      ]
     },
     "execution_count": 6,
     "metadata": {},
     "output_type": "execute_result"
    }
   ],
   "source": [
    "import numpy as np\n",
    "n1=np.zeros((1,2))\n",
    "n1"
   ]
  },
  {
   "cell_type": "code",
   "execution_count": 7,
   "id": "1216d6e3-f007-4351-bfad-4c39beba8224",
   "metadata": {},
   "outputs": [
    {
     "data": {
      "text/plain": [
       "array([[0., 0., 0., 0., 0.],\n",
       "       [0., 0., 0., 0., 0.],\n",
       "       [0., 0., 0., 0., 0.],\n",
       "       [0., 0., 0., 0., 0.],\n",
       "       [0., 0., 0., 0., 0.]])"
      ]
     },
     "execution_count": 7,
     "metadata": {},
     "output_type": "execute_result"
    }
   ],
   "source": [
    "import numpy as np\n",
    "n2=np.zeros((5,5))\n",
    "n2"
   ]
  },
  {
   "cell_type": "raw",
   "id": "49f9e3b0-da57-42da-a5f6-456d1bf70209",
   "metadata": {},
   "source": [
    "If we wants to initialize with same number like 10,20 with (2,2) we have to use full method"
   ]
  },
  {
   "cell_type": "code",
   "execution_count": 8,
   "id": "337ad8fc-3cd7-4733-8ae1-d7bd2ac9585a",
   "metadata": {},
   "outputs": [
    {
     "data": {
      "text/plain": [
       "array([[3, 3, 3, 3, 3, 3, 3, 3, 3, 3],\n",
       "       [3, 3, 3, 3, 3, 3, 3, 3, 3, 3]])"
      ]
     },
     "execution_count": 8,
     "metadata": {},
     "output_type": "execute_result"
    }
   ],
   "source": [
    "n3=np.full((2,10),3)\n",
    "n3"
   ]
  },
  {
   "cell_type": "markdown",
   "id": "fef17807-e0ce-400e-af3c-744651021971",
   "metadata": {},
   "source": [
    "using a range method  "
   ]
  },
  {
   "cell_type": "code",
   "execution_count": 13,
   "id": "78dcd702-0b52-4747-9a36-90b4aa7a59c4",
   "metadata": {},
   "outputs": [],
   "source": [
    "n4= np.arange(9,91,9)"
   ]
  },
  {
   "cell_type": "code",
   "execution_count": 14,
   "id": "e18a302c-9854-4261-8563-5dd6a1d01921",
   "metadata": {},
   "outputs": [
    {
     "data": {
      "text/plain": [
       "array([ 9, 18, 27, 36, 45, 54, 63, 72, 81, 90])"
      ]
     },
     "execution_count": 14,
     "metadata": {},
     "output_type": "execute_result"
    }
   ],
   "source": [
    "n4"
   ]
  },
  {
   "cell_type": "markdown",
   "id": "4f4b3f3c-1c8a-488e-a4fa-7d04b35c4e38",
   "metadata": {},
   "source": [
    "initializing numpy array with random numbers"
   ]
  },
  {
   "cell_type": "code",
   "execution_count": 5,
   "id": "c6d6fa6d-3835-4c93-b4ef-83f51a262df3",
   "metadata": {},
   "outputs": [
    {
     "data": {
      "text/plain": [
       "array([ 95,  96, 100,  99,  91])"
      ]
     },
     "execution_count": 5,
     "metadata": {},
     "output_type": "execute_result"
    }
   ],
   "source": [
    "n5=np.random.randint(90,101,5)\n",
    "n5"
   ]
  },
  {
   "cell_type": "markdown",
   "id": "e37541dc-68f3-4c57-9ae8-79f6871b049d",
   "metadata": {},
   "source": [
    "Finding the shape of the array"
   ]
  },
  {
   "cell_type": "code",
   "execution_count": 16,
   "id": "5bc27aa7-d996-4366-b494-f78d5972e3ee",
   "metadata": {},
   "outputs": [
    {
     "data": {
      "text/plain": [
       "array([[1, 2, 3],\n",
       "       [4, 5, 6]])"
      ]
     },
     "execution_count": 16,
     "metadata": {},
     "output_type": "execute_result"
    }
   ],
   "source": [
    "n6=np.array([[1,2,3],[4,5,6]])\n",
    "n6"
   ]
  },
  {
   "cell_type": "code",
   "execution_count": 17,
   "id": "b0e7f7f8-7515-40d6-a6f9-d57e1a06ac3e",
   "metadata": {},
   "outputs": [
    {
     "data": {
      "text/plain": [
       "(2, 3)"
      ]
     },
     "execution_count": 17,
     "metadata": {},
     "output_type": "execute_result"
    }
   ],
   "source": [
    "n6.shape"
   ]
  },
  {
   "cell_type": "code",
   "execution_count": 18,
   "id": "fd684e1d-ae6d-4e3a-89e0-e3f8b43aea3e",
   "metadata": {},
   "outputs": [
    {
     "data": {
      "text/plain": [
       "array([[1, 2],\n",
       "       [3, 4],\n",
       "       [5, 6]])"
      ]
     },
     "execution_count": 18,
     "metadata": {},
     "output_type": "execute_result"
    }
   ],
   "source": [
    "n6.shape=(3,2)\n",
    "n6\n"
   ]
  },
  {
   "cell_type": "markdown",
   "id": "ab9bbe6a-bc83-4452-bd80-4c543ef33529",
   "metadata": {},
   "source": [
    "lets learn how stacks works in numpy "
   ]
  },
  {
   "cell_type": "code",
   "execution_count": 19,
   "id": "e6cfb08a-ccdc-4384-a727-b214c0a706a6",
   "metadata": {},
   "outputs": [],
   "source": [
    "n1= np.array([1,2,3])\n",
    "n2=np.array([4,5,6])"
   ]
  },
  {
   "cell_type": "code",
   "execution_count": 21,
   "id": "01eea44e-1dba-40b9-bd50-c43f1be07843",
   "metadata": {},
   "outputs": [
    {
     "data": {
      "text/plain": [
       "array([[1, 2, 3],\n",
       "       [4, 5, 6]])"
      ]
     },
     "execution_count": 21,
     "metadata": {},
     "output_type": "execute_result"
    }
   ],
   "source": [
    "np.vstack((n1,n2))"
   ]
  },
  {
   "cell_type": "code",
   "execution_count": 22,
   "id": "6de1fe30-8e37-4e41-973f-c28dbd0f5c1e",
   "metadata": {},
   "outputs": [
    {
     "data": {
      "text/plain": [
       "array([1, 2, 3, 4, 5, 6])"
      ]
     },
     "execution_count": 22,
     "metadata": {},
     "output_type": "execute_result"
    }
   ],
   "source": [
    "np.hstack((n1,n2))"
   ]
  },
  {
   "cell_type": "code",
   "execution_count": 23,
   "id": "d4cbadcb-bff5-4767-9169-6c66118a83d4",
   "metadata": {},
   "outputs": [
    {
     "data": {
      "text/plain": [
       "array([[1, 4],\n",
       "       [2, 5],\n",
       "       [3, 6]])"
      ]
     },
     "execution_count": 23,
     "metadata": {},
     "output_type": "execute_result"
    }
   ],
   "source": [
    "np.column_stack((n1,n2))"
   ]
  },
  {
   "cell_type": "markdown",
   "id": "23ea7c3a-6087-429c-a89f-9f1c35ae519c",
   "metadata": {},
   "source": [
    "Intersection in array"
   ]
  },
  {
   "cell_type": "code",
   "execution_count": 24,
   "id": "310de044-37b4-4160-a10a-ff6370d0cfa5",
   "metadata": {},
   "outputs": [],
   "source": [
    "n1=np.array([1,2,3,4,5,6])\n",
    "n2=np.array([5,6,7,8,9])"
   ]
  },
  {
   "cell_type": "code",
   "execution_count": 25,
   "id": "09a2976b-f40b-479e-bddf-30ef0c7e4eec",
   "metadata": {},
   "outputs": [
    {
     "data": {
      "text/plain": [
       "array([5, 6])"
      ]
     },
     "execution_count": 25,
     "metadata": {},
     "output_type": "execute_result"
    }
   ],
   "source": [
    "np.intersect1d(n1,n2)"
   ]
  },
  {
   "cell_type": "code",
   "execution_count": 26,
   "id": "b699493c-6fb2-4c2e-878f-fb04e132be36",
   "metadata": {},
   "outputs": [
    {
     "data": {
      "text/plain": [
       "array([1, 2, 3, 4])"
      ]
     },
     "execution_count": 26,
     "metadata": {},
     "output_type": "execute_result"
    }
   ],
   "source": [
    "np.setdiff1d(n1,n2)"
   ]
  },
  {
   "cell_type": "code",
   "execution_count": 28,
   "id": "364d1803-237f-4aee-a189-d40096373c90",
   "metadata": {},
   "outputs": [
    {
     "data": {
      "text/plain": [
       "array([7, 8, 9])"
      ]
     },
     "execution_count": 28,
     "metadata": {},
     "output_type": "execute_result"
    }
   ],
   "source": [
    "np.setdiff1d(n2,n1)"
   ]
  },
  {
   "cell_type": "markdown",
   "id": "11b4b7f3-51e0-4b9c-bf85-2e31813f3567",
   "metadata": {},
   "source": [
    "simple mathemetical in numpy arrays"
   ]
  },
  {
   "cell_type": "code",
   "execution_count": 29,
   "id": "b25ce2ac-efe4-4b32-83ce-1ccb2fe5c6b5",
   "metadata": {},
   "outputs": [],
   "source": [
    "n1=np.array([10,20])\n",
    "n2=np.array([30,40])"
   ]
  },
  {
   "cell_type": "code",
   "execution_count": 31,
   "id": "faca2703-cac5-483a-81c5-9a6b8ea4962d",
   "metadata": {},
   "outputs": [
    {
     "data": {
      "text/plain": [
       "100"
      ]
     },
     "execution_count": 31,
     "metadata": {},
     "output_type": "execute_result"
    }
   ],
   "source": [
    "np.sum([n1,n2])"
   ]
  },
  {
   "cell_type": "code",
   "execution_count": 32,
   "id": "729b3f9f-556d-4157-8d10-2d59ae4c54d3",
   "metadata": {},
   "outputs": [
    {
     "data": {
      "text/plain": [
       "array([40, 60])"
      ]
     },
     "execution_count": 32,
     "metadata": {},
     "output_type": "execute_result"
    }
   ],
   "source": [
    "np.sum([n1,n2],axis=0)"
   ]
  },
  {
   "cell_type": "code",
   "execution_count": 33,
   "id": "68ca2ba2-e1cf-45f2-be86-42a2abba76a7",
   "metadata": {},
   "outputs": [
    {
     "data": {
      "text/plain": [
       "array([30, 70])"
      ]
     },
     "execution_count": 33,
     "metadata": {},
     "output_type": "execute_result"
    }
   ],
   "source": [
    "np.sum([n1,n2],axis=1)"
   ]
  },
  {
   "cell_type": "code",
   "execution_count": 40,
   "id": "7edfd629-08cb-43ab-9dc7-5ac21c7c2412",
   "metadata": {},
   "outputs": [
    {
     "data": {
      "text/plain": [
       "array([10, 20, 30, 40, 50])"
      ]
     },
     "execution_count": 40,
     "metadata": {},
     "output_type": "execute_result"
    }
   ],
   "source": [
    "n1=np.array([10,20,30,40,50])\n",
    "n1"
   ]
  },
  {
   "cell_type": "code",
   "execution_count": 35,
   "id": "7865bfcc-366a-48c2-b127-2d472e81f39f",
   "metadata": {},
   "outputs": [],
   "source": [
    "n1=n1+2"
   ]
  },
  {
   "cell_type": "code",
   "execution_count": 36,
   "id": "31125ed7-ca3d-476f-a232-bcff7408553e",
   "metadata": {},
   "outputs": [
    {
     "data": {
      "text/plain": [
       "array([12, 22, 32, 42, 52])"
      ]
     },
     "execution_count": 36,
     "metadata": {},
     "output_type": "execute_result"
    }
   ],
   "source": [
    "n1"
   ]
  },
  {
   "cell_type": "code",
   "execution_count": 37,
   "id": "a1e0811d-b623-40ec-be45-141b20065973",
   "metadata": {},
   "outputs": [
    {
     "data": {
      "text/plain": [
       "array([10, 20, 30, 40, 50])"
      ]
     },
     "execution_count": 37,
     "metadata": {},
     "output_type": "execute_result"
    }
   ],
   "source": [
    "n1-2"
   ]
  },
  {
   "cell_type": "code",
   "execution_count": 38,
   "id": "e2d5674a-8f79-4efb-808c-a844b339d520",
   "metadata": {},
   "outputs": [
    {
     "data": {
      "text/plain": [
       "array([ 24,  44,  64,  84, 104])"
      ]
     },
     "execution_count": 38,
     "metadata": {},
     "output_type": "execute_result"
    }
   ],
   "source": [
    "n1*2"
   ]
  },
  {
   "cell_type": "code",
   "execution_count": 39,
   "id": "789aedf1-149f-4cfd-940e-ba6a0f606317",
   "metadata": {},
   "outputs": [
    {
     "data": {
      "text/plain": [
       "array([12., 22., 32., 42., 52.])"
      ]
     },
     "execution_count": 39,
     "metadata": {},
     "output_type": "execute_result"
    }
   ],
   "source": [
    "n1/1"
   ]
  },
  {
   "cell_type": "code",
   "execution_count": 41,
   "id": "4160999d-5f63-4352-a828-cbf612337e84",
   "metadata": {},
   "outputs": [
    {
     "data": {
      "text/plain": [
       "30.0"
      ]
     },
     "execution_count": 41,
     "metadata": {},
     "output_type": "execute_result"
    }
   ],
   "source": [
    "np.mean(n1)"
   ]
  },
  {
   "cell_type": "code",
   "execution_count": 42,
   "id": "7ec22977-51f9-445c-a6f5-4b1162e63e95",
   "metadata": {},
   "outputs": [
    {
     "data": {
      "text/plain": [
       "30.0"
      ]
     },
     "execution_count": 42,
     "metadata": {},
     "output_type": "execute_result"
    }
   ],
   "source": [
    "np.median(n1)"
   ]
  },
  {
   "cell_type": "code",
   "execution_count": 43,
   "id": "4f210a3b-068f-4643-a422-52c3166ed18e",
   "metadata": {},
   "outputs": [
    {
     "data": {
      "text/plain": [
       "14.142135623730951"
      ]
     },
     "execution_count": 43,
     "metadata": {},
     "output_type": "execute_result"
    }
   ],
   "source": [
    "np.std(n1)"
   ]
  },
  {
   "cell_type": "markdown",
   "id": "0a2b6b90-b176-4035-a3c6-c15a37eed9f2",
   "metadata": {},
   "source": [
    "lets learn some numpy matrix"
   ]
  },
  {
   "cell_type": "code",
   "execution_count": 55,
   "id": "56dbad06-d3d4-4a1d-8288-a59d77773a29",
   "metadata": {},
   "outputs": [
    {
     "data": {
      "text/plain": [
       "array([[1, 2, 3],\n",
       "       [4, 5, 6],\n",
       "       [7, 8, 9]])"
      ]
     },
     "execution_count": 55,
     "metadata": {},
     "output_type": "execute_result"
    }
   ],
   "source": [
    "n1=np.array([[1,2,3],[4,5,6],[7,8,9]])\n",
    "n1"
   ]
  },
  {
   "cell_type": "code",
   "execution_count": 46,
   "id": "99c6582a-722a-48ef-a8cc-f74a1c33b84d",
   "metadata": {},
   "outputs": [
    {
     "data": {
      "text/plain": [
       "array([1, 2, 3])"
      ]
     },
     "execution_count": 46,
     "metadata": {},
     "output_type": "execute_result"
    }
   ],
   "source": [
    "n1[0]"
   ]
  },
  {
   "cell_type": "code",
   "execution_count": 47,
   "id": "94cd844a-c447-444e-af8f-e41927323a0d",
   "metadata": {},
   "outputs": [
    {
     "data": {
      "text/plain": [
       "array([4, 5, 6])"
      ]
     },
     "execution_count": 47,
     "metadata": {},
     "output_type": "execute_result"
    }
   ],
   "source": [
    "n1[1]"
   ]
  },
  {
   "cell_type": "code",
   "execution_count": 50,
   "id": "21378229-9848-46e4-a2c8-bba1fe81448e",
   "metadata": {},
   "outputs": [
    {
     "data": {
      "text/plain": [
       "array([7, 8, 9])"
      ]
     },
     "execution_count": 50,
     "metadata": {},
     "output_type": "execute_result"
    }
   ],
   "source": [
    "n1[2]"
   ]
  },
  {
   "cell_type": "code",
   "execution_count": 51,
   "id": "aaa6d63f-09c9-462e-b702-031dca90840f",
   "metadata": {},
   "outputs": [
    {
     "data": {
      "text/plain": [
       "array([1, 4, 7])"
      ]
     },
     "execution_count": 51,
     "metadata": {},
     "output_type": "execute_result"
    }
   ],
   "source": [
    "n1[:,0]"
   ]
  },
  {
   "cell_type": "code",
   "execution_count": 52,
   "id": "3c4f2676-8df9-4c59-9164-c5c9f9d3ded9",
   "metadata": {},
   "outputs": [
    {
     "data": {
      "text/plain": [
       "array([2, 5, 8])"
      ]
     },
     "execution_count": 52,
     "metadata": {},
     "output_type": "execute_result"
    }
   ],
   "source": [
    "n1[:,1]"
   ]
  },
  {
   "cell_type": "code",
   "execution_count": 53,
   "id": "dc8555c6-0caa-4e56-8916-072f1c2ed004",
   "metadata": {},
   "outputs": [
    {
     "data": {
      "text/plain": [
       "array([3, 6, 9])"
      ]
     },
     "execution_count": 53,
     "metadata": {},
     "output_type": "execute_result"
    }
   ],
   "source": [
    "n1[:,2]"
   ]
  },
  {
   "cell_type": "code",
   "execution_count": 56,
   "id": "1297251e-5fb3-4f53-815c-166d0d6b5689",
   "metadata": {},
   "outputs": [
    {
     "data": {
      "text/plain": [
       "array([[1, 4, 7],\n",
       "       [2, 5, 8],\n",
       "       [3, 6, 9]])"
      ]
     },
     "execution_count": 56,
     "metadata": {},
     "output_type": "execute_result"
    }
   ],
   "source": [
    "np.transpose(n1)"
   ]
  },
  {
   "cell_type": "code",
   "execution_count": 57,
   "id": "d71bbecb-1ffa-41ab-bbda-4805a2d39886",
   "metadata": {},
   "outputs": [
    {
     "data": {
      "text/plain": [
       "array([[1, 2, 3],\n",
       "       [4, 5, 6],\n",
       "       [7, 8, 9]])"
      ]
     },
     "execution_count": 57,
     "metadata": {},
     "output_type": "execute_result"
    }
   ],
   "source": [
    "n1"
   ]
  },
  {
   "cell_type": "code",
   "execution_count": 58,
   "id": "1baef650-9c05-4d15-9df8-8535e3b708cf",
   "metadata": {},
   "outputs": [
    {
     "data": {
      "text/plain": [
       "array([[9, 8, 7],\n",
       "       [6, 5, 4],\n",
       "       [3, 2, 1]])"
      ]
     },
     "execution_count": 58,
     "metadata": {},
     "output_type": "execute_result"
    }
   ],
   "source": [
    "n2=np.array([[9,8,7],[6,5,4],[3,2,1]])\n",
    "n2"
   ]
  },
  {
   "cell_type": "code",
   "execution_count": 59,
   "id": "66fe47a5-6a09-438a-805b-11e6072af504",
   "metadata": {},
   "outputs": [
    {
     "data": {
      "text/plain": [
       "array([[ 30,  24,  18],\n",
       "       [ 84,  69,  54],\n",
       "       [138, 114,  90]])"
      ]
     },
     "execution_count": 59,
     "metadata": {},
     "output_type": "execute_result"
    }
   ],
   "source": [
    "n1.dot(n2)"
   ]
  },
  {
   "cell_type": "code",
   "execution_count": 60,
   "id": "9f98f0af-2ded-4920-8b9b-f49967531129",
   "metadata": {},
   "outputs": [
    {
     "data": {
      "text/plain": [
       "array([[ 90, 114, 138],\n",
       "       [ 54,  69,  84],\n",
       "       [ 18,  24,  30]])"
      ]
     },
     "execution_count": 60,
     "metadata": {},
     "output_type": "execute_result"
    }
   ],
   "source": [
    "n2.dot(n1)"
   ]
  },
  {
   "cell_type": "code",
   "execution_count": 61,
   "id": "92470512-de97-4e27-a7d3-f54d0ab3734d",
   "metadata": {},
   "outputs": [],
   "source": [
    "n1=np.save('numpy_np',n1)\n"
   ]
  },
  {
   "cell_type": "code",
   "execution_count": 62,
   "id": "c98342d8-09dd-4afb-9315-28f168372f04",
   "metadata": {},
   "outputs": [],
   "source": [
    "n2=np.load('numpy_np.npy')"
   ]
  },
  {
   "cell_type": "code",
   "execution_count": 63,
   "id": "aa11b33b-94f6-4b29-8735-894807d0ebcc",
   "metadata": {},
   "outputs": [
    {
     "data": {
      "text/plain": [
       "array([[1, 2, 3],\n",
       "       [4, 5, 6],\n",
       "       [7, 8, 9]])"
      ]
     },
     "execution_count": 63,
     "metadata": {},
     "output_type": "execute_result"
    }
   ],
   "source": [
    "n2"
   ]
  },
  {
   "cell_type": "code",
   "execution_count": null,
   "id": "cf9d0936-9b71-4689-ac90-0f6a054996e3",
   "metadata": {},
   "outputs": [],
   "source": []
  }
 ],
 "metadata": {
  "kernelspec": {
   "display_name": "Python 3 (ipykernel)",
   "language": "python",
   "name": "python3"
  },
  "language_info": {
   "codemirror_mode": {
    "name": "ipython",
    "version": 3
   },
   "file_extension": ".py",
   "mimetype": "text/x-python",
   "name": "python",
   "nbconvert_exporter": "python",
   "pygments_lexer": "ipython3",
   "version": "3.11.7"
  }
 },
 "nbformat": 4,
 "nbformat_minor": 5
}
